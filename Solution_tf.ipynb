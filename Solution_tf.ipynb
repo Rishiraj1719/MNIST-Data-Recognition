{
 "cells": [
  {
   "cell_type": "code",
   "execution_count": 16,
   "id": "ca8776ac-695f-48c3-9af4-da0619c77699",
   "metadata": {},
   "outputs": [],
   "source": [
    "import tensorflow as tf\n",
    "import pandas as pd"
   ]
  },
  {
   "cell_type": "code",
   "execution_count": 17,
   "id": "3797b373-038b-4a2a-b5c3-6678673dacf9",
   "metadata": {},
   "outputs": [],
   "source": [
    "import numpy as np"
   ]
  },
  {
   "cell_type": "code",
   "execution_count": 18,
   "id": "a60b0c31-3b20-477b-b58a-e2f1adff391f",
   "metadata": {},
   "outputs": [],
   "source": [
    "from tensorflow import keras\n",
    "from tensorflow.keras import layers"
   ]
  },
  {
   "cell_type": "code",
   "execution_count": 19,
   "id": "071736a8-de0f-4741-a8b9-a040843ef19c",
   "metadata": {},
   "outputs": [
    {
     "name": "stdout",
     "output_type": "stream",
     "text": [
      "(28000, 784)\n"
     ]
    }
   ],
   "source": [
    "cols = list(pd.read_csv(\"C:\\\\Users\\\\hp\\Desktop\\\\Transfer\\\\AGV\\\\Second set of tasks\\\\train.csv\", nrows =1))\n",
    "x_train = pd.read_csv(\"C:\\\\Users\\\\hp\\Desktop\\\\Transfer\\\\AGV\\\\Second set of tasks\\\\train.csv\", usecols =[i for i in cols if i != 'label'])\n",
    "y_train = pd.read_csv(\"C:\\\\Users\\\\hp\\Desktop\\\\Transfer\\\\AGV\\Second set of tasks\\\\train.csv\")['label']\n",
    "x_test = pd.read_csv(\"C:\\\\Users\\\\hp\\Desktop\\\\Transfer\\\\AGV\\\\Second set of tasks\\\\test(1).csv\",index_col=0)\n",
    "print(x_test.shape)\n"
   ]
  },
  {
   "cell_type": "code",
   "execution_count": 20,
   "id": "830ea6b2-0141-499c-ab6b-dfcaf3b42db2",
   "metadata": {},
   "outputs": [],
   "source": [
    "model = tf.keras.models.Sequential([\n",
    "  tf.keras.layers.Dense(512, activation='relu', input_shape=(784,)),\n",
    "  tf.keras.layers.Dense(128),\n",
    "  tf.keras.layers.Dense(128),\n",
    "  tf.keras.layers.Dropout(0.2),\n",
    "  tf.keras.layers.Dense(10)\n",
    "])"
   ]
  },
  {
   "cell_type": "code",
   "execution_count": 21,
   "id": "c5c62aeb-c406-4b4a-ad71-b8bdba125bde",
   "metadata": {},
   "outputs": [
    {
     "data": {
      "text/plain": [
       "array([[-101.10044 ,   62.386642,  101.987564, ...,  -21.699099,\n",
       "         -99.64036 ,  -96.91901 ],\n",
       "       [ -23.4985  ,  169.96739 ,  163.29407 , ..., -155.30786 ,\n",
       "         -40.697556, -160.26509 ],\n",
       "       [ 131.2916  ,  -50.854176,   65.97063 , ...,  -24.873701,\n",
       "        -195.50047 ,  107.20521 ],\n",
       "       ...,\n",
       "       [  33.023544,  220.76936 ,   -4.211732, ..., -217.80467 ,\n",
       "         -42.100372,  100.13049 ],\n",
       "       [  45.04179 ,   37.81772 ,  175.79907 , ..., -143.35573 ,\n",
       "        -248.93771 ,  120.382645],\n",
       "       [ -63.09305 ,  127.847916,   37.684204, ...,  -43.35294 ,\n",
       "         -69.051506,  -27.999804]], dtype=float32)"
      ]
     },
     "execution_count": 21,
     "metadata": {},
     "output_type": "execute_result"
    }
   ],
   "source": [
    "predictions = model(np.array(x_train)).numpy()\n",
    "predictions"
   ]
  },
  {
   "cell_type": "code",
   "execution_count": 22,
   "id": "1e707f60-0d4a-4f4d-a196-a03db9c4bb89",
   "metadata": {},
   "outputs": [
    {
     "data": {
      "text/plain": [
       "array([[0.0000000e+00, 6.3319596e-18, 9.9999976e-01, ..., 0.0000000e+00,\n",
       "        0.0000000e+00, 0.0000000e+00],\n",
       "       [0.0000000e+00, 0.0000000e+00, 0.0000000e+00, ..., 0.0000000e+00,\n",
       "        0.0000000e+00, 0.0000000e+00],\n",
       "       [1.9977848e-16, 0.0000000e+00, 0.0000000e+00, ..., 0.0000000e+00,\n",
       "        0.0000000e+00, 6.9177277e-27],\n",
       "       ...,\n",
       "       [0.0000000e+00, 1.0000000e+00, 0.0000000e+00, ..., 0.0000000e+00,\n",
       "        0.0000000e+00, 0.0000000e+00],\n",
       "       [0.0000000e+00, 0.0000000e+00, 1.9194057e-30, ..., 0.0000000e+00,\n",
       "        0.0000000e+00, 0.0000000e+00],\n",
       "       [0.0000000e+00, 2.1922688e-26, 0.0000000e+00, ..., 0.0000000e+00,\n",
       "        0.0000000e+00, 0.0000000e+00]], dtype=float32)"
      ]
     },
     "execution_count": 22,
     "metadata": {},
     "output_type": "execute_result"
    }
   ],
   "source": [
    "tf.nn.softmax(predictions).numpy()"
   ]
  },
  {
   "cell_type": "code",
   "execution_count": 23,
   "id": "a12c6631-7fa6-4899-8358-d1d1d81ea0db",
   "metadata": {},
   "outputs": [],
   "source": [
    "loss_fn = tf.keras.losses.SparseCategoricalCrossentropy(from_logits=True)"
   ]
  },
  {
   "cell_type": "code",
   "execution_count": 24,
   "id": "e4b14607-0180-4a54-b41b-0f093ff516c1",
   "metadata": {},
   "outputs": [
    {
     "data": {
      "text/plain": [
       "247.51811"
      ]
     },
     "execution_count": 24,
     "metadata": {},
     "output_type": "execute_result"
    }
   ],
   "source": [
    "loss_fn(y_train, predictions).numpy()"
   ]
  },
  {
   "cell_type": "code",
   "execution_count": 25,
   "id": "fc62847c-5d5a-4fd7-af4b-67ef20b2620a",
   "metadata": {},
   "outputs": [],
   "source": [
    "model.compile(optimizer='adam',\n",
    "              loss=loss_fn,\n",
    "              metrics=['accuracy'])"
   ]
  },
  {
   "cell_type": "code",
   "execution_count": 26,
   "id": "dea84f9f-711d-4ba1-8f05-1340e45767c9",
   "metadata": {},
   "outputs": [
    {
     "name": "stdout",
     "output_type": "stream",
     "text": [
      "Epoch 1/10\n",
      "1313/1313 [==============================] - 4s 3ms/step - loss: 4.3827 - accuracy: 0.8584\n",
      "Epoch 2/10\n",
      "1313/1313 [==============================] - 4s 3ms/step - loss: 0.5941 - accuracy: 0.8937\n",
      "Epoch 3/10\n",
      "1313/1313 [==============================] - 4s 3ms/step - loss: 0.5042 - accuracy: 0.9064\n",
      "Epoch 4/10\n",
      "1313/1313 [==============================] - 4s 3ms/step - loss: 0.4049 - accuracy: 0.9196\n",
      "Epoch 5/10\n",
      "1313/1313 [==============================] - 5s 4ms/step - loss: 0.3441 - accuracy: 0.9295\n",
      "Epoch 6/10\n",
      "1313/1313 [==============================] - 5s 4ms/step - loss: 0.2740 - accuracy: 0.9410\n",
      "Epoch 7/10\n",
      "1313/1313 [==============================] - 5s 3ms/step - loss: 0.2349 - accuracy: 0.9460\n",
      "Epoch 8/10\n",
      "1313/1313 [==============================] - 5s 4ms/step - loss: 0.1993 - accuracy: 0.9545\n",
      "Epoch 9/10\n",
      "1313/1313 [==============================] - 5s 3ms/step - loss: 0.1900 - accuracy: 0.9566\n",
      "Epoch 10/10\n",
      "1313/1313 [==============================] - 5s 3ms/step - loss: 0.1812 - accuracy: 0.9600\n"
     ]
    },
    {
     "data": {
      "text/plain": [
       "<keras.callbacks.History at 0x1872c3b3310>"
      ]
     },
     "execution_count": 26,
     "metadata": {},
     "output_type": "execute_result"
    }
   ],
   "source": [
    "model.fit(np.array(x_train), np.array(y_train), epochs = 10)"
   ]
  },
  {
   "cell_type": "code",
   "execution_count": 27,
   "id": "e2096384-2286-4c51-951e-354f8e8696c4",
   "metadata": {},
   "outputs": [
    {
     "name": "stdout",
     "output_type": "stream",
     "text": [
      "875/875 [==============================] - 1s 1ms/step\n"
     ]
    }
   ],
   "source": [
    "ans = model.predict(x_test,  verbose='auto')"
   ]
  },
  {
   "cell_type": "code",
   "execution_count": 28,
   "id": "78269186-d4a3-4f3d-8363-3d4749c50466",
   "metadata": {},
   "outputs": [],
   "source": [
    "pred_list = np.zeros(28000)\n",
    "for i in range(28000):\n",
    "    pred_list[i] = np.argmax(ans[i])"
   ]
  },
  {
   "cell_type": "code",
   "execution_count": 29,
   "id": "806ef4ce-9088-4b17-bd6b-d60dc403f672",
   "metadata": {},
   "outputs": [
    {
     "data": {
      "text/plain": [
       "array([2., 0., 9., ..., 3., 9., 2.])"
      ]
     },
     "execution_count": 29,
     "metadata": {},
     "output_type": "execute_result"
    }
   ],
   "source": [
    "pred_list"
   ]
  },
  {
   "cell_type": "code",
   "execution_count": 30,
   "id": "402a2340-1344-48b6-b380-b7f286f9878d",
   "metadata": {},
   "outputs": [],
   "source": [
    "result = \"Result.csv\"\n",
    "df=pd.DataFrame(pred_list)\n",
    "df.to_csv(result)"
   ]
  },
  {
   "cell_type": "code",
   "execution_count": null,
   "id": "03ef374b-5e65-456e-9f41-ee4ac29cfea8",
   "metadata": {},
   "outputs": [],
   "source": []
  }
 ],
 "metadata": {
  "kernelspec": {
   "display_name": "Python 3.10.5 64-bit",
   "language": "python",
   "name": "python3"
  },
  "language_info": {
   "codemirror_mode": {
    "name": "ipython",
    "version": 3
   },
   "file_extension": ".py",
   "mimetype": "text/x-python",
   "name": "python",
   "nbconvert_exporter": "python",
   "pygments_lexer": "ipython3",
   "version": "3.10.5"
  },
  "vscode": {
   "interpreter": {
    "hash": "63963b3f4c440940f0b94a3100916033a226cb4f45979123153792d60aa56d6a"
   }
  }
 },
 "nbformat": 4,
 "nbformat_minor": 5
}
